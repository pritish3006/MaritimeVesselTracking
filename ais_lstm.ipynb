{
 "cells": [
  {
   "cell_type": "markdown",
   "metadata": {},
   "source": [
    "## Importing libraries"
   ]
  },
  {
   "cell_type": "code",
   "execution_count": 1,
   "metadata": {},
   "outputs": [],
   "source": [
    "%matplotlib inline\n",
    "\n",
    "import numpy as np\n",
    "import pandas as pd\n",
    "from tqdm.notebook import tqdm\n",
    "\n",
    "import matplotlib.pyplot as plt\n",
    "import seaborn as sns\n",
    "from pylab import rcParams\n",
    "from matplotlib import rc\n",
    "from matplotlib.ticker import MaxNLocator\n",
    "\n",
    "import torch\n",
    "import torch.nn as nn\n",
    "import torch.optim as optim\n",
    "from torch.utils.data import Dataset, DataLoader\n",
    "import torch.nn.functional as F\n",
    "\n",
    "\n",
    "import pytorch_lightning as pl\n",
    "from pytorch_lightning.callbacks import ModelCheckpoint, EarlyStopping\n",
    "from pytorch_lightning.loggers import TensorBoardLogger\n",
    "from sklearn.metrics import classification_report, confusion_matrix\n",
    "from sklearn.preprocessing import MinMaxScaler\n",
    "\n",
    "\n",
    "plt.style.use('ggplot')\n",
    "\n",
    "%config InlineBackend.figure_format = 'retina'\n",
    "rcParams['figure.figsize'] = 12, 8\n",
    "\n",
    "tqdm.pandas()"
   ]
  },
  {
   "cell_type": "markdown",
   "metadata": {},
   "source": [
    "## Setting the global seed"
   ]
  },
  {
   "cell_type": "code",
   "execution_count": 2,
   "metadata": {},
   "outputs": [
    {
     "name": "stderr",
     "output_type": "stream",
     "text": [
      "Global seed set to 42\n"
     ]
    },
    {
     "data": {
      "text/plain": [
       "42"
      ]
     },
     "execution_count": 2,
     "metadata": {},
     "output_type": "execute_result"
    }
   ],
   "source": [
    "pl.seed_everything(42)"
   ]
  },
  {
   "cell_type": "markdown",
   "metadata": {},
   "source": [
    "## Setting up GPU acceleration"
   ]
  },
  {
   "cell_type": "code",
   "execution_count": 3,
   "metadata": {},
   "outputs": [],
   "source": [
    "device = torch.device('mps')"
   ]
  },
  {
   "cell_type": "markdown",
   "metadata": {},
   "source": [
    "## Loading the data"
   ]
  },
  {
   "cell_type": "code",
   "execution_count": 4,
   "metadata": {},
   "outputs": [
    {
     "data": {
      "text/plain": [
       "((13714, 7),\n",
       "    OBJECT_ID     VID       SEQUENCE_DTTM        LAT        LON  \\\n",
       " 0          1  100008 2022-12-07 14:00:00  36.906850 -76.089022   \n",
       " 1          2  100015 2022-12-07 14:00:00  36.950000 -76.026834   \n",
       " 2          3  100016 2022-12-07 14:00:00  36.906783 -76.089084   \n",
       " 3          4  100019 2022-12-07 14:00:00  37.003000 -76.283167   \n",
       " 4          5  100016 2022-12-07 14:00:01  36.906783 -76.089084   \n",
       " \n",
       "    SPEED_OVER_GROUND  COURSE_OVER_GROUND  \n",
       " 0                  1                1641  \n",
       " 1                 11                2815  \n",
       " 2                  0                2632  \n",
       " 3                148                2460  \n",
       " 4                  0                2632  )"
      ]
     },
     "execution_count": 4,
     "metadata": {},
     "output_type": "execute_result"
    }
   ],
   "source": [
    "data = pd.read_csv('set1.csv', parse_dates=['SEQUENCE_DTTM'])\n",
    "data.shape,data.head()"
   ]
  },
  {
   "cell_type": "markdown",
   "metadata": {},
   "source": [
    "## Preprocessing the data"
   ]
  },
  {
   "cell_type": "code",
   "execution_count": 5,
   "metadata": {},
   "outputs": [
    {
     "data": {
      "application/vnd.jupyter.widget-view+json": {
       "model_id": "d06c1f968edf4d618a6b9b9fd57bbac2",
       "version_major": 2,
       "version_minor": 0
      },
      "text/plain": [
       "  0%|          | 0/13714 [00:00<?, ?it/s]"
      ]
     },
     "metadata": {},
     "output_type": "display_data"
    }
   ],
   "source": [
    "# Converting the dataframe into a features matrix and a target vector\n",
    "rows = []\n",
    "# iterating over the dataframe\n",
    "for _, row in tqdm(data.iterrows(), total=data.shape[0]):\n",
    "    # creating a list of features for each row\n",
    "    row_data = dict(\n",
    "        hour=row['SEQUENCE_DTTM'].hour,\n",
    "        min=row['SEQUENCE_DTTM'].minute,\n",
    "        sec=row['SEQUENCE_DTTM'].second,\n",
    "        latitude=row['LAT'],\n",
    "        longitude=row['LON'],\n",
    "        COG=row['COURSE_OVER_GROUND'],\n",
    "        SOG=row['SPEED_OVER_GROUND'], \n",
    "        # VID is the last row and will be the target\n",
    "        VID=row['VID']\n",
    "    )\n",
    "    rows.append(row_data)"
   ]
  },
  {
   "cell_type": "code",
   "execution_count": 6,
   "metadata": {},
   "outputs": [
    {
     "data": {
      "text/html": [
       "<div>\n",
       "<style scoped>\n",
       "    .dataframe tbody tr th:only-of-type {\n",
       "        vertical-align: middle;\n",
       "    }\n",
       "\n",
       "    .dataframe tbody tr th {\n",
       "        vertical-align: top;\n",
       "    }\n",
       "\n",
       "    .dataframe thead th {\n",
       "        text-align: right;\n",
       "    }\n",
       "</style>\n",
       "<table border=\"1\" class=\"dataframe\">\n",
       "  <thead>\n",
       "    <tr style=\"text-align: right;\">\n",
       "      <th></th>\n",
       "      <th>hour</th>\n",
       "      <th>min</th>\n",
       "      <th>sec</th>\n",
       "      <th>latitude</th>\n",
       "      <th>longitude</th>\n",
       "      <th>COG</th>\n",
       "      <th>SOG</th>\n",
       "      <th>VID</th>\n",
       "    </tr>\n",
       "  </thead>\n",
       "  <tbody>\n",
       "    <tr>\n",
       "      <th>0</th>\n",
       "      <td>14</td>\n",
       "      <td>0</td>\n",
       "      <td>0</td>\n",
       "      <td>36.906850</td>\n",
       "      <td>-76.089022</td>\n",
       "      <td>1641</td>\n",
       "      <td>1</td>\n",
       "      <td>100008</td>\n",
       "    </tr>\n",
       "    <tr>\n",
       "      <th>1</th>\n",
       "      <td>14</td>\n",
       "      <td>0</td>\n",
       "      <td>0</td>\n",
       "      <td>36.950000</td>\n",
       "      <td>-76.026834</td>\n",
       "      <td>2815</td>\n",
       "      <td>11</td>\n",
       "      <td>100015</td>\n",
       "    </tr>\n",
       "    <tr>\n",
       "      <th>2</th>\n",
       "      <td>14</td>\n",
       "      <td>0</td>\n",
       "      <td>0</td>\n",
       "      <td>36.906783</td>\n",
       "      <td>-76.089084</td>\n",
       "      <td>2632</td>\n",
       "      <td>0</td>\n",
       "      <td>100016</td>\n",
       "    </tr>\n",
       "    <tr>\n",
       "      <th>3</th>\n",
       "      <td>14</td>\n",
       "      <td>0</td>\n",
       "      <td>0</td>\n",
       "      <td>37.003000</td>\n",
       "      <td>-76.283167</td>\n",
       "      <td>2460</td>\n",
       "      <td>148</td>\n",
       "      <td>100019</td>\n",
       "    </tr>\n",
       "    <tr>\n",
       "      <th>4</th>\n",
       "      <td>14</td>\n",
       "      <td>0</td>\n",
       "      <td>1</td>\n",
       "      <td>36.906783</td>\n",
       "      <td>-76.089084</td>\n",
       "      <td>2632</td>\n",
       "      <td>0</td>\n",
       "      <td>100016</td>\n",
       "    </tr>\n",
       "  </tbody>\n",
       "</table>\n",
       "</div>"
      ],
      "text/plain": [
       "   hour  min  sec   latitude  longitude   COG  SOG     VID\n",
       "0    14    0    0  36.906850 -76.089022  1641    1  100008\n",
       "1    14    0    0  36.950000 -76.026834  2815   11  100015\n",
       "2    14    0    0  36.906783 -76.089084  2632    0  100016\n",
       "3    14    0    0  37.003000 -76.283167  2460  148  100019\n",
       "4    14    0    1  36.906783 -76.089084  2632    0  100016"
      ]
     },
     "execution_count": 6,
     "metadata": {},
     "output_type": "execute_result"
    }
   ],
   "source": [
    "features_df = pd.DataFrame(rows)\n",
    "features_df.head()"
   ]
  },
  {
   "cell_type": "markdown",
   "metadata": {},
   "source": [
    "## Splitting the data into train and test sets"
   ]
  },
  {
   "cell_type": "code",
   "execution_count": 7,
   "metadata": {},
   "outputs": [
    {
     "data": {
      "text/plain": [
       "10971"
      ]
     },
     "execution_count": 7,
     "metadata": {},
     "output_type": "execute_result"
    }
   ],
   "source": [
    "train_size = int(len(features_df) * 0.8)\n",
    "train_size"
   ]
  },
  {
   "cell_type": "code",
   "execution_count": 8,
   "metadata": {},
   "outputs": [
    {
     "data": {
      "text/plain": [
       "((10971, 8), (2743, 8))"
      ]
     },
     "execution_count": 8,
     "metadata": {},
     "output_type": "execute_result"
    }
   ],
   "source": [
    "train_df, test_df = features_df[:train_size], features_df[train_size:]\n",
    "train_df.shape, test_df.shape"
   ]
  },
  {
   "cell_type": "code",
   "execution_count": 9,
   "metadata": {},
   "outputs": [
    {
     "data": {
      "text/plain": [
       "(13714, 7)"
      ]
     },
     "execution_count": 9,
     "metadata": {},
     "output_type": "execute_result"
    }
   ],
   "source": [
    "data.shape"
   ]
  },
  {
   "cell_type": "code",
   "execution_count": 10,
   "metadata": {},
   "outputs": [],
   "source": [
    "# Scaling the features\n",
    "scaler = MinMaxScaler(feature_range=(-1, 1))\n",
    "scaler = scaler.fit(train_df)"
   ]
  },
  {
   "cell_type": "code",
   "execution_count": 11,
   "metadata": {},
   "outputs": [],
   "source": [
    "# Transforming the scaled features back into a dataframe\n",
    "train_df = pd.DataFrame(\n",
    "    scaler.transform(train_df), \n",
    "    columns=train_df.columns,\n",
    "    index=train_df.index)"
   ]
  },
  {
   "cell_type": "code",
   "execution_count": 12,
   "metadata": {},
   "outputs": [],
   "source": [
    "# Scaling and transforming the test set\n",
    "test_df = pd.DataFrame(\n",
    "    scaler.transform(test_df),\n",
    "    columns=test_df.columns,\n",
    "    index=test_df.index)"
   ]
  },
  {
   "cell_type": "code",
   "execution_count": 13,
   "metadata": {},
   "outputs": [
    {
     "data": {
      "text/html": [
       "<div>\n",
       "<style scoped>\n",
       "    .dataframe tbody tr th:only-of-type {\n",
       "        vertical-align: middle;\n",
       "    }\n",
       "\n",
       "    .dataframe tbody tr th {\n",
       "        vertical-align: top;\n",
       "    }\n",
       "\n",
       "    .dataframe thead th {\n",
       "        text-align: right;\n",
       "    }\n",
       "</style>\n",
       "<table border=\"1\" class=\"dataframe\">\n",
       "  <thead>\n",
       "    <tr style=\"text-align: right;\">\n",
       "      <th></th>\n",
       "      <th>hour</th>\n",
       "      <th>min</th>\n",
       "      <th>sec</th>\n",
       "      <th>latitude</th>\n",
       "      <th>longitude</th>\n",
       "      <th>COG</th>\n",
       "      <th>SOG</th>\n",
       "      <th>VID</th>\n",
       "    </tr>\n",
       "  </thead>\n",
       "  <tbody>\n",
       "    <tr>\n",
       "      <th>0</th>\n",
       "      <td>-1.0</td>\n",
       "      <td>-1.0</td>\n",
       "      <td>-1.000000</td>\n",
       "      <td>-0.995191</td>\n",
       "      <td>0.377254</td>\n",
       "      <td>-0.088080</td>\n",
       "      <td>-0.992395</td>\n",
       "      <td>-0.263158</td>\n",
       "    </tr>\n",
       "    <tr>\n",
       "      <th>1</th>\n",
       "      <td>-1.0</td>\n",
       "      <td>-1.0</td>\n",
       "      <td>-1.000000</td>\n",
       "      <td>-0.393756</td>\n",
       "      <td>0.732772</td>\n",
       "      <td>0.564323</td>\n",
       "      <td>-0.916350</td>\n",
       "      <td>0.473684</td>\n",
       "    </tr>\n",
       "    <tr>\n",
       "      <th>2</th>\n",
       "      <td>-1.0</td>\n",
       "      <td>-1.0</td>\n",
       "      <td>-1.000000</td>\n",
       "      <td>-0.996125</td>\n",
       "      <td>0.376899</td>\n",
       "      <td>0.462629</td>\n",
       "      <td>-1.000000</td>\n",
       "      <td>0.578947</td>\n",
       "    </tr>\n",
       "    <tr>\n",
       "      <th>3</th>\n",
       "      <td>-1.0</td>\n",
       "      <td>-1.0</td>\n",
       "      <td>-1.000000</td>\n",
       "      <td>0.344972</td>\n",
       "      <td>-0.732641</td>\n",
       "      <td>0.367046</td>\n",
       "      <td>0.125475</td>\n",
       "      <td>0.894737</td>\n",
       "    </tr>\n",
       "    <tr>\n",
       "      <th>4</th>\n",
       "      <td>-1.0</td>\n",
       "      <td>-1.0</td>\n",
       "      <td>-0.966102</td>\n",
       "      <td>-0.996125</td>\n",
       "      <td>0.376899</td>\n",
       "      <td>0.462629</td>\n",
       "      <td>-1.000000</td>\n",
       "      <td>0.578947</td>\n",
       "    </tr>\n",
       "  </tbody>\n",
       "</table>\n",
       "</div>"
      ],
      "text/plain": [
       "   hour  min       sec  latitude  longitude       COG       SOG       VID\n",
       "0  -1.0 -1.0 -1.000000 -0.995191   0.377254 -0.088080 -0.992395 -0.263158\n",
       "1  -1.0 -1.0 -1.000000 -0.393756   0.732772  0.564323 -0.916350  0.473684\n",
       "2  -1.0 -1.0 -1.000000 -0.996125   0.376899  0.462629 -1.000000  0.578947\n",
       "3  -1.0 -1.0 -1.000000  0.344972  -0.732641  0.367046  0.125475  0.894737\n",
       "4  -1.0 -1.0 -0.966102 -0.996125   0.376899  0.462629 -1.000000  0.578947"
      ]
     },
     "execution_count": 13,
     "metadata": {},
     "output_type": "execute_result"
    }
   ],
   "source": [
    "train_df.head()"
   ]
  },
  {
   "cell_type": "markdown",
   "metadata": {},
   "source": [
    "## Creating tensors"
   ]
  },
  {
   "cell_type": "code",
   "execution_count": null,
   "metadata": {},
   "outputs": [],
   "source": [
    "# Converting the training and test sets into sequences\n",
    "def create_sequences(input_data: pd.DataFrame, target_column, seq_length):\n",
    "    sequences = []\n",
    "    data_size = len(input_data)\n",
    "\n",
    "    for i in tqdm(range(data_size - seq_length)):\n",
    "\n",
    "        seq = input_data[i:i+seq_length]\n",
    "\n",
    "        label_index = i + seq_length\n",
    "        \n",
    "        label = input_data[target_column][label_index]\n",
    "        sequences.append((seq, label))\n",
    "    \n",
    "    return sequences"
   ]
  },
  {
   "cell_type": "code",
   "execution_count": null,
   "metadata": {},
   "outputs": [],
   "source": [
    "# Testing the function\n",
    "sample_df = pd.DataFrame(dict(\n",
    "    f1 = [1, 2, 3, 4, 5],\n",
    "    lab = [6, 7, 8, 9, 10]\n",
    "))\n",
    "sample_df"
   ]
  },
  {
   "cell_type": "code",
   "execution_count": null,
   "metadata": {},
   "outputs": [],
   "source": [
    "sample_sequences = create_sequences(sample_df, 'lab', seq_length = 4)\n",
    "sample_sequences"
   ]
  },
  {
   "cell_type": "code",
   "execution_count": null,
   "metadata": {},
   "outputs": [],
   "source": [
    "print(sample_sequences[0][0])\n",
    "print()\n",
    "print(f'label: {sample_sequences[0][1]}')"
   ]
  },
  {
   "cell_type": "code",
   "execution_count": null,
   "metadata": {},
   "outputs": [],
   "source": [
    "SEQ_LENGTH = 50\n",
    "TARGET_COLUMN = 'VID'\n",
    "\n",
    "ais_sequence = create_sequences(train_df, TARGET_COLUMN, SEQ_LENGTH)\n",
    "\n"
   ]
  },
  {
   "cell_type": "code",
   "execution_count": null,
   "metadata": {},
   "outputs": [],
   "source": [
    "print(ais_sequence[0][0])\n",
    "print()\n",
    "print(f'label: {ais_sequence[0][1]}')"
   ]
  },
  {
   "cell_type": "code",
   "execution_count": 17,
   "metadata": {},
   "outputs": [],
   "source": [
    "# train_sequences = train_df.astype(np.float32).to_numpy().tolist()\n",
    "# test_sequences = train_df.astype(np.float32).to_numpy().tolist()"
   ]
  },
  {
   "cell_type": "code",
   "execution_count": 19,
   "metadata": {},
   "outputs": [
    {
     "data": {
      "text/plain": [
       "10971"
      ]
     },
     "execution_count": 19,
     "metadata": {},
     "output_type": "execute_result"
    }
   ],
   "source": [
    "def create_dataset(sequences):\n",
    "    dataset = [torch.tensor(s).unsqueeze(1)]"
   ]
  },
  {
   "cell_type": "code",
   "execution_count": null,
   "metadata": {},
   "outputs": [],
   "source": []
  }
 ],
 "metadata": {
  "kernelspec": {
   "display_name": "Python 3.9.15 ('torch-gpu')",
   "language": "python",
   "name": "python3"
  },
  "language_info": {
   "codemirror_mode": {
    "name": "ipython",
    "version": 3
   },
   "file_extension": ".py",
   "mimetype": "text/x-python",
   "name": "python",
   "nbconvert_exporter": "python",
   "pygments_lexer": "ipython3",
   "version": "3.9.15"
  },
  "orig_nbformat": 4,
  "vscode": {
   "interpreter": {
    "hash": "c78be42eb4a9b011f63865ede463952a3a1b8eab01bab5c6459dcc171b59c277"
   }
  }
 },
 "nbformat": 4,
 "nbformat_minor": 2
}
